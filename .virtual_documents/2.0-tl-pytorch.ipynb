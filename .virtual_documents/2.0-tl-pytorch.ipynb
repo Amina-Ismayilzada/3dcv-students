








import os

from vll.utils.download import download_mnist
import numpy as np
import matplotlib.pyplot as plt

import skimage
import skimage.io

import torch
import torch.nn.functional as F
from torchvision import transforms

from models.mnist.simple_cnn import Net





# Create a numpy array that looks like this: [0, 1, 2, ..., 19]
arr = np.arange(0, 20)

# Convert the numpy array to a torch tensor
tensor = torch.tensor(arr, dtype=torch.int)
print(tensor)

# Create a tensor that contains random numbers.
# It should have the same size like the numpy array.
# Multiply it with the previous tensor.
rand_tensor = torch.randn(arr.shape)
tensor = torch.mul(rand_tensor, tensor)
print(tensor)

# Create a tensor that contains only 1s.
# It should have the same size like the numpy array.
# Substract it from the previous tensor.
tensor -= torch.ones(arr.shape)
print(tensor)

# Get the 5th element using a index.
element = tensor[4]
print(element)

# Create a tensor that contains only 0s.
# It should have the same size like the numpy array.
# Multiply it with the previous tensor without any assignment (in place).
zero_tensor = torch.zeros(arr.shape)
tensor.mul_(zero_tensor)
print(tensor)


# Load the image from the last exercise as RGB image.
image = skimage.io.imread('./data/pepo.jpg')

# Convert the image to a tensor
image = torch.tensor(image, dtype = torch.float32)  # set dtype to 32-bit float to avoid 
                                                    # error messages during the computation of mean later on  

C, H, W = image.shape

# Print its shape
print(image.shape)

# Flatten the image
image = torch.flatten(image)
print(len(image))

# Add another dimension resulting in a 1x78643 tensor
image = image.unsqueeze(0)
print(image.shape)

# Revert the last action
image = image.squeeze(0)
print(image.shape)

# Reshape the tensor, so that it has the original 2D dimensions
image = image.unflatten(0, (C, H, W))
print(image.shape)

# Calculate the sum, mean and max of the tensor
print(torch.sum(image))
print(torch.mean(image))
print(torch.max(image))





# Create a random 2x2 tensor which requires gradients
x = torch.randn((2, 2), requires_grad=True)
print(x)

# Create another tensor by adding 2.0
y = torch.add(x, 2.0)
print(y)

# Create a third tensor z = y^2
z = torch.pow(y, 2)
print(z)

# Compute out as the mean of values in z
out = torch.mean(z)
print(out)

# Perform back propagation on out
out.backward()

# Print the gradients dout/dx
print(x.grad)

# Create a copy of y whithout gradients
y2 = y.detach().clone()
print(y2.requires_grad)

# Perform the mean operation on z
# with gradients globally disabled
with torch.no_grad():
    mean_z = torch.mean(z)
print(mean_z)





# We first download the MNIST dataset
download_mnist()


class MNIST:
    """
    Dataset class for MNIST
    """

    def __init__(self, root, transform=None):
        """
        root -- path to either "training" or "testing"
        
        transform -- transform (from torchvision.transforms)
                     to be applied to the data
        """
        # save transforms
        self.transform = transform
        
        # DONE: create a list of all subdirectories (named like the classes) 
        #       within the dataset root
        self.subdir = [dir for dir in os.listdir(root) if os.path.isdir(os.path.join(root, dir))] #making sure it is a dir
        
        # DONE: create a list of paths to all images
        #       with the ground truth label
        self.images = []
        for subdir in self.subdir: 
            for el in os.listdir(os.path.join(root, subdir)):
                self.images.append([os.path.join(root, subdir, el), int(subdir)])

    
    def __len__(self):
        """
        Returns the lenght of the dataset (number of images)
        """
        # DONE: return the length (number of images) of the dataset
        return len(self.images)

    def __getitem__(self, index):
        """
        Loads and returns one image as floating point numpy array
        
        index -- image index in [0, self.__len__() - 1]
        """
        # DONE: load the ith image as an numpy array (dtype=float32)
        image = np.array(skimage.io.imread(self.images[index][0]), dtype = np.float32)

        # DONE: apply transforms to the image (if there are any)
        if self.transform:
            image = self.transform(image)
        
        # DONE: return a tuple (transformed image, ground truth)
        return (image, self.images[index][1])





def validate(model, data_loader):
    # DONE: Create a 10x10 grid of subplots
    fig, axs = plt.subplots(10, 10, figsize=(10, 10))
    
    model.eval()
    correct = 0 # count for correct predictions
    
    with torch.no_grad():
        for i, item in enumerate(data_loader):
            # DONE: unpack item into image and ground truth
            #       and run network on them
            image, ground_truth = item
            output = model(image)
            
            # DONE: get class with highest probability
            predicted_class = torch.argmax(output, dim = 1).item()
            
            # DONE: check if prediction is correct
            #       and add it to correct count
            if predicted_class == ground_truth.item():
                correct += 1
            
            # plot the first 100 images
            if i < 100:
                # DONE: compute position of ith image in the grid
                x, y = [i // 10, i % 10]
                
                # DONE: convert image tensor to numpy array
                #       and normalize to [0, 1]
                image = image.numpy().squeeze()
                image = (image - image.min()) / (image.max() - image.min())

                rgb_image = np.zeros([*image.shape, 3])
                rgb_image[:,:,1] = image

                # DONE: make wrongly predicted images red
                if predicted_class != ground_truth:
                    rgb_image[:,:,0] = rgb_image[:,:,1]
                    rgb_image[:,:,1] = 0
                
                # DONE: disable axis and show image
                axs[x, y].axis('off')
                axs[x, y].imshow(rgb_image) 
                
                # DONE: show the predicted class next to each image
                axs[x, y].set_title(predicted_class)
            
            elif i == 100:
                plt.tight_layout()
                plt.show()
    
    # DONE: compute and print the prediction accuracy in percent
    pred_accuracy = correct * 100 / len(data_loader)
    print(f'Prediction accuracy: {pred_accuracy}%')

# create a DataLoader using the implemented MNIST dataset class
data_loader = torch.utils.data.DataLoader(
    MNIST('data/mnist/testing',
    transform=transforms.Compose([
        transforms.ToTensor(),
        transforms.Normalize((0.1307,), (0.3081,))
    ])),
    batch_size=1, shuffle=True)
    
# create the neural network
model = Net()

# load the statedict from 'models/mnist/simple_cnn.pt'
model.load_state_dict(torch.load('models/mnist/simple_cnn.pt'))

# validate the model
validate(model, data_loader)
